{
 "cells": [
  {
   "cell_type": "code",
   "execution_count": 1,
   "id": "2b7a76d6-3c9b-4753-8352-ab8aa13fd753",
   "metadata": {},
   "outputs": [],
   "source": [
    "import pandas as pd\n",
    "import seaborn as sns\n",
    "import matplotlib.pyplot as plt\n",
    "import numpy as np"
   ]
  },
  {
   "cell_type": "code",
   "execution_count": 2,
   "id": "516cc1d5-37f8-4fa1-ba70-0f01bcb4ba22",
   "metadata": {},
   "outputs": [
    {
     "data": {
      "text/html": [
       "<div>\n",
       "<style scoped>\n",
       "    .dataframe tbody tr th:only-of-type {\n",
       "        vertical-align: middle;\n",
       "    }\n",
       "\n",
       "    .dataframe tbody tr th {\n",
       "        vertical-align: top;\n",
       "    }\n",
       "\n",
       "    .dataframe thead th {\n",
       "        text-align: right;\n",
       "    }\n",
       "</style>\n",
       "<table border=\"1\" class=\"dataframe\">\n",
       "  <thead>\n",
       "    <tr style=\"text-align: right;\">\n",
       "      <th></th>\n",
       "      <th>ID</th>\n",
       "      <th>DATE</th>\n",
       "      <th>States</th>\n",
       "      <th>Contaminates</th>\n",
       "      <th>Death</th>\n",
       "      <th>Recover</th>\n",
       "    </tr>\n",
       "  </thead>\n",
       "  <tbody>\n",
       "    <tr>\n",
       "      <th>0</th>\n",
       "      <td>1</td>\n",
       "      <td>2/27/2020</td>\n",
       "      <td>Abia</td>\n",
       "      <td>0.0</td>\n",
       "      <td>0.0</td>\n",
       "      <td>0.0</td>\n",
       "    </tr>\n",
       "    <tr>\n",
       "      <th>1</th>\n",
       "      <td>2</td>\n",
       "      <td>2/27/2020</td>\n",
       "      <td>Adamawa</td>\n",
       "      <td>0.0</td>\n",
       "      <td>0.0</td>\n",
       "      <td>0.0</td>\n",
       "    </tr>\n",
       "    <tr>\n",
       "      <th>2</th>\n",
       "      <td>3</td>\n",
       "      <td>2/27/2020</td>\n",
       "      <td>Akwa Ibom</td>\n",
       "      <td>0.0</td>\n",
       "      <td>0.0</td>\n",
       "      <td>0.0</td>\n",
       "    </tr>\n",
       "    <tr>\n",
       "      <th>3</th>\n",
       "      <td>4</td>\n",
       "      <td>2/27/2020</td>\n",
       "      <td>Anambra</td>\n",
       "      <td>0.0</td>\n",
       "      <td>0.0</td>\n",
       "      <td>0.0</td>\n",
       "    </tr>\n",
       "    <tr>\n",
       "      <th>4</th>\n",
       "      <td>5</td>\n",
       "      <td>2/27/2020</td>\n",
       "      <td>Bauchi</td>\n",
       "      <td>0.0</td>\n",
       "      <td>0.0</td>\n",
       "      <td>0.0</td>\n",
       "    </tr>\n",
       "    <tr>\n",
       "      <th>...</th>\n",
       "      <td>...</td>\n",
       "      <td>...</td>\n",
       "      <td>...</td>\n",
       "      <td>...</td>\n",
       "      <td>...</td>\n",
       "      <td>...</td>\n",
       "    </tr>\n",
       "    <tr>\n",
       "      <th>26861</th>\n",
       "      <td>26862</td>\n",
       "      <td>2/2/2022</td>\n",
       "      <td>Sokoto</td>\n",
       "      <td>0.0</td>\n",
       "      <td>0.0</td>\n",
       "      <td>0.0</td>\n",
       "    </tr>\n",
       "    <tr>\n",
       "      <th>26862</th>\n",
       "      <td>26863</td>\n",
       "      <td>2/2/2022</td>\n",
       "      <td>Taraba</td>\n",
       "      <td>0.0</td>\n",
       "      <td>0.0</td>\n",
       "      <td>0.0</td>\n",
       "    </tr>\n",
       "    <tr>\n",
       "      <th>26863</th>\n",
       "      <td>26864</td>\n",
       "      <td>2/2/2022</td>\n",
       "      <td>Yobe</td>\n",
       "      <td>0.0</td>\n",
       "      <td>0.0</td>\n",
       "      <td>0.0</td>\n",
       "    </tr>\n",
       "    <tr>\n",
       "      <th>26864</th>\n",
       "      <td>26865</td>\n",
       "      <td>2/2/2022</td>\n",
       "      <td>Zamfara</td>\n",
       "      <td>0.0</td>\n",
       "      <td>0.0</td>\n",
       "      <td>0.0</td>\n",
       "    </tr>\n",
       "    <tr>\n",
       "      <th>26865</th>\n",
       "      <td>26866</td>\n",
       "      <td>2/2/2022</td>\n",
       "      <td>Non spécifié</td>\n",
       "      <td>0.0</td>\n",
       "      <td>0.0</td>\n",
       "      <td>0.0</td>\n",
       "    </tr>\n",
       "  </tbody>\n",
       "</table>\n",
       "<p>26866 rows × 6 columns</p>\n",
       "</div>"
      ],
      "text/plain": [
       "          ID       DATE        States  Contaminates  Death  Recover\n",
       "0          1  2/27/2020          Abia           0.0    0.0      0.0\n",
       "1          2  2/27/2020       Adamawa           0.0    0.0      0.0\n",
       "2          3  2/27/2020     Akwa Ibom           0.0    0.0      0.0\n",
       "3          4  2/27/2020       Anambra           0.0    0.0      0.0\n",
       "4          5  2/27/2020        Bauchi           0.0    0.0      0.0\n",
       "...      ...        ...           ...           ...    ...      ...\n",
       "26861  26862   2/2/2022        Sokoto           0.0    0.0      0.0\n",
       "26862  26863   2/2/2022        Taraba           0.0    0.0      0.0\n",
       "26863  26864   2/2/2022          Yobe           0.0    0.0      0.0\n",
       "26864  26865   2/2/2022       Zamfara           0.0    0.0      0.0\n",
       "26865  26866   2/2/2022  Non spécifié           0.0    0.0      0.0\n",
       "\n",
       "[26866 rows x 6 columns]"
      ]
     },
     "execution_count": 2,
     "metadata": {},
     "output_type": "execute_result"
    }
   ],
   "source": [
    "df = pd.read_csv(r'C:\\Users\\tlynx\\Downloads\\CrimeStats\\Nigeria Covid19.csv', encoding = 'latin1')\n",
    "df"
   ]
  },
  {
   "cell_type": "markdown",
   "id": "c2f48af8-81f7-4f69-9b81-4e7179ee7e3d",
   "metadata": {},
   "source": [
    "Data Cleaning"
   ]
  },
  {
   "cell_type": "code",
   "execution_count": 3,
   "id": "1c5637e6-b9d3-4a10-9080-b0a87a2020fe",
   "metadata": {},
   "outputs": [
    {
     "data": {
      "text/plain": [
       "ID                0\n",
       "DATE              0\n",
       "States            0\n",
       "Contaminates     64\n",
       "Death           403\n",
       "Recover         586\n",
       "dtype: int64"
      ]
     },
     "execution_count": 3,
     "metadata": {},
     "output_type": "execute_result"
    }
   ],
   "source": [
    "df.isnull().sum()"
   ]
  },
  {
   "cell_type": "code",
   "execution_count": 4,
   "id": "285d6997-b13d-41b6-b22e-20c1dc2696b6",
   "metadata": {},
   "outputs": [
    {
     "data": {
      "text/plain": [
       "0"
      ]
     },
     "execution_count": 4,
     "metadata": {},
     "output_type": "execute_result"
    }
   ],
   "source": [
    "df.duplicated().sum()"
   ]
  },
  {
   "cell_type": "code",
   "execution_count": 5,
   "id": "a13f879b-b927-42b9-b97a-9c4bd8a9330c",
   "metadata": {},
   "outputs": [
    {
     "data": {
      "text/plain": [
       "ID                int64\n",
       "DATE             object\n",
       "States           object\n",
       "Contaminates    float64\n",
       "Death           float64\n",
       "Recover         float64\n",
       "dtype: object"
      ]
     },
     "execution_count": 5,
     "metadata": {},
     "output_type": "execute_result"
    }
   ],
   "source": [
    "df.dtypes"
   ]
  },
  {
   "cell_type": "code",
   "execution_count": 6,
   "id": "3dfe8804-01c3-4168-9194-4408702470fb",
   "metadata": {},
   "outputs": [],
   "source": [
    "#Fill null values\n",
    "df['Contaminates'] = df['Contaminates'].fillna(np.nan)\n",
    "df['Death'] = df['Death'].fillna(np.nan)\n",
    "df['Recover'] = df['Recover'].fillna(np.nan)"
   ]
  },
  {
   "cell_type": "code",
   "execution_count": 7,
   "id": "977edbcf-0caa-488e-8510-881747b81112",
   "metadata": {},
   "outputs": [],
   "source": [
    "#Remove white spaces\n",
    "\n",
    "df['States'] = df['States'].str.strip()"
   ]
  },
  {
   "cell_type": "code",
   "execution_count": 8,
   "id": "859ac47b-602b-48f7-8a76-313cdfbc4f91",
   "metadata": {},
   "outputs": [],
   "source": [
    "df['DATE'] = pd.to_datetime(df['DATE'], errors = 'coerce')"
   ]
  },
  {
   "cell_type": "code",
   "execution_count": 9,
   "id": "e8c66431-8152-4f83-bf84-5437d502face",
   "metadata": {},
   "outputs": [
    {
     "data": {
      "text/plain": [
       "ID                0\n",
       "DATE              0\n",
       "States            0\n",
       "Contaminates     64\n",
       "Death           403\n",
       "Recover         586\n",
       "dtype: int64"
      ]
     },
     "execution_count": 9,
     "metadata": {},
     "output_type": "execute_result"
    }
   ],
   "source": [
    "df.isnull().sum()"
   ]
  },
  {
   "cell_type": "markdown",
   "id": "77e37787-02c8-498a-9fc9-c315e4194e57",
   "metadata": {},
   "source": [
    "Analysis"
   ]
  },
  {
   "cell_type": "markdown",
   "id": "4b2583e2-36d6-4f23-aa2c-ffdd1552565f",
   "metadata": {},
   "source": [
    "1. At what month in 2020 did Nigeria record the highest number of deaths?\n",
    "2. What state has the highest recovery rate?\n",
    "3. What year has the highest number of contaminates?\n",
    "4. What is the total number of deaths and recovery\n",
    "5. The relationship between contamination and recovery.\n",
    "6. What is the average death recorded in 2020 and 2021?"
   ]
  },
  {
   "cell_type": "markdown",
   "id": "63c21ee0-23d5-4f5c-a58d-cbcef85f2051",
   "metadata": {},
   "source": [
    "1. At what month in 2020 did Nigeria record the highest number of deaths?"
   ]
  },
  {
   "cell_type": "code",
   "execution_count": 10,
   "id": "3a48c6f3-69b1-4bfa-9659-cda9c17fb3c4",
   "metadata": {},
   "outputs": [],
   "source": [
    "df['Year'] = df['DATE'].dt.year\n",
    "df['Month'] = df['DATE'].dt.month_name()\n",
    "df['Day'] = df['DATE'].dt.day_name()"
   ]
  },
  {
   "cell_type": "code",
   "execution_count": 11,
   "id": "1b06dfb7-f8f3-4e42-a4f6-d2292a56639b",
   "metadata": {},
   "outputs": [
    {
     "data": {
      "text/html": [
       "<div>\n",
       "<style scoped>\n",
       "    .dataframe tbody tr th:only-of-type {\n",
       "        vertical-align: middle;\n",
       "    }\n",
       "\n",
       "    .dataframe tbody tr th {\n",
       "        vertical-align: top;\n",
       "    }\n",
       "\n",
       "    .dataframe thead th {\n",
       "        text-align: right;\n",
       "    }\n",
       "</style>\n",
       "<table border=\"1\" class=\"dataframe\">\n",
       "  <thead>\n",
       "    <tr style=\"text-align: right;\">\n",
       "      <th></th>\n",
       "      <th>Year</th>\n",
       "      <th>Month</th>\n",
       "      <th>Death</th>\n",
       "    </tr>\n",
       "  </thead>\n",
       "  <tbody>\n",
       "    <tr>\n",
       "      <th>14</th>\n",
       "      <td>2021</td>\n",
       "      <td>February</td>\n",
       "      <td>321.0</td>\n",
       "    </tr>\n",
       "  </tbody>\n",
       "</table>\n",
       "</div>"
      ],
      "text/plain": [
       "    Year     Month  Death\n",
       "14  2021  February  321.0"
      ]
     },
     "execution_count": 11,
     "metadata": {},
     "output_type": "execute_result"
    }
   ],
   "source": [
    "Top_Deaths = df.groupby(['Year','Month'])['Death'].sum().reset_index()\n",
    "Top_Deaths.sort_values(by='Death', ascending=False).head(1)"
   ]
  },
  {
   "cell_type": "markdown",
   "id": "43e21951-e2aa-4d94-bfd0-60c6cc2a2966",
   "metadata": {},
   "source": [
    "2. What state has the highest recovery rate?"
   ]
  },
  {
   "cell_type": "code",
   "execution_count": 12,
   "id": "15033702-6be5-4f84-b608-2d8634b1fb24",
   "metadata": {},
   "outputs": [
    {
     "data": {
      "text/html": [
       "<div>\n",
       "<style scoped>\n",
       "    .dataframe tbody tr th:only-of-type {\n",
       "        vertical-align: middle;\n",
       "    }\n",
       "\n",
       "    .dataframe tbody tr th {\n",
       "        vertical-align: top;\n",
       "    }\n",
       "\n",
       "    .dataframe thead th {\n",
       "        text-align: right;\n",
       "    }\n",
       "</style>\n",
       "<table border=\"1\" class=\"dataframe\">\n",
       "  <thead>\n",
       "    <tr style=\"text-align: right;\">\n",
       "      <th></th>\n",
       "      <th>States</th>\n",
       "      <th>Recover</th>\n",
       "    </tr>\n",
       "  </thead>\n",
       "  <tbody>\n",
       "    <tr>\n",
       "      <th>0</th>\n",
       "      <td>Lagos</td>\n",
       "      <td>80066.0</td>\n",
       "    </tr>\n",
       "  </tbody>\n",
       "</table>\n",
       "</div>"
      ],
      "text/plain": [
       "  States  Recover\n",
       "0  Lagos  80066.0"
      ]
     },
     "execution_count": 12,
     "metadata": {},
     "output_type": "execute_result"
    }
   ],
   "source": [
    "Top_Recovery = df.groupby('States')['Recover'].sum()\n",
    "Top_Recovery.sort_values( ascending = False).head(1).reset_index()"
   ]
  },
  {
   "cell_type": "code",
   "execution_count": 13,
   "id": "c1bbc2f3-3080-489f-94cb-735a87bca399",
   "metadata": {},
   "outputs": [
    {
     "data": {
      "image/png": "[encoded data removed]",
      "text/plain": [
       "<Figure size 640x480 with 1 Axes>"
      ]
     },
     "metadata": {},
     "output_type": "display_data"
    }
   ],
   "source": [
    "Top_Recovery.plot(kind = 'bar', title = 'Total Recovery Rates')\n",
    "plt.xlabel = 'States'\n",
    "plt.ylabel = 'Recovery Rates' "
   ]
  },
  {
   "cell_type": "markdown",
   "id": "44fb56a4-3918-43f2-aac8-c49dd6939c54",
   "metadata": {},
   "source": [
    "3. What year has the highest number of contaminates?"
   ]
  },
  {
   "cell_type": "code",
   "execution_count": 14,
   "id": "d1095834-3cf4-4907-a5f4-628daa86fe0c",
   "metadata": {},
   "outputs": [
    {
     "data": {
      "text/html": [
       "<div>\n",
       "<style scoped>\n",
       "    .dataframe tbody tr th:only-of-type {\n",
       "        vertical-align: middle;\n",
       "    }\n",
       "\n",
       "    .dataframe tbody tr th {\n",
       "        vertical-align: top;\n",
       "    }\n",
       "\n",
       "    .dataframe thead th {\n",
       "        text-align: right;\n",
       "    }\n",
       "</style>\n",
       "<table border=\"1\" class=\"dataframe\">\n",
       "  <thead>\n",
       "    <tr style=\"text-align: right;\">\n",
       "      <th></th>\n",
       "      <th>Year</th>\n",
       "      <th>Contaminates</th>\n",
       "    </tr>\n",
       "  </thead>\n",
       "  <tbody>\n",
       "    <tr>\n",
       "      <th>1</th>\n",
       "      <td>2021</td>\n",
       "      <td>154841.0</td>\n",
       "    </tr>\n",
       "  </tbody>\n",
       "</table>\n",
       "</div>"
      ],
      "text/plain": [
       "   Year  Contaminates\n",
       "1  2021      154841.0"
      ]
     },
     "execution_count": 14,
     "metadata": {},
     "output_type": "execute_result"
    }
   ],
   "source": [
    "Peak_Con = df.groupby('Year')['Contaminates'].sum().reset_index()\n",
    "Peak_Con.sort_values( by = 'Contaminates', ascending=False).head(1)"
   ]
  },
  {
   "cell_type": "code",
   "execution_count": 15,
   "id": "ea7f3cba-1db0-48fc-9eab-932036026545",
   "metadata": {},
   "outputs": [
    {
     "data": {
      "text/plain": [
       "<Axes: xlabel='Year', ylabel='Contaminates'>"
      ]
     },
     "execution_count": 15,
     "metadata": {},
     "output_type": "execute_result"
    },
    {
     "data": {
      "image/png": "[encoded data removed]",
      "text/plain": [
       "<Figure size 640x480 with 1 Axes>"
      ]
     },
     "metadata": {},
     "output_type": "display_data"
    }
   ],
   "source": [
    "\n",
    "sns.pointplot(x = 'Year', y = 'Contaminates', hue = 'Year', data = Peak_Con,)"
   ]
  },
  {
   "cell_type": "markdown",
   "id": "36ee4776-ff22-45ee-a082-9e89a165889b",
   "metadata": {},
   "source": [
    "4. What is the total number of deaths and recovery"
   ]
  },
  {
   "cell_type": "code",
   "execution_count": 16,
   "id": "f70415b8-d89e-4b59-86dd-9bee85379b84",
   "metadata": {},
   "outputs": [
    {
     "name": "stdout",
     "output_type": "stream",
     "text": [
      "The total number of deaths recorded is 3135.0, While 229019.0 recovered.\n"
     ]
    }
   ],
   "source": [
    "Death= df['Death'].sum() \n",
    "Recover = df['Recover'].sum()\n",
    "print(f'The total number of deaths recorded is {Death}, While {Recover} recovered.')"
   ]
  },
  {
   "cell_type": "markdown",
   "id": "0289212b-4d33-4681-b5f7-3a3d67f075db",
   "metadata": {},
   "source": [
    "5. The relationship between contamination and recovery."
   ]
  },
  {
   "cell_type": "code",
   "execution_count": 28,
   "id": "6e946791-5fc9-4c83-9faf-1ae00c520dd9",
   "metadata": {},
   "outputs": [
    {
     "name": "stdout",
     "output_type": "stream",
     "text": [
      "Contaminants has little impact on recovery, it is 0.17159686381316314 which is weak.\n"
     ]
    }
   ],
   "source": [
    "relationship = df['Contaminates'].corr(df['Recover'])\n",
    "print(f'Contaminants has little impact on recovery, it is {relationship} which is weak.')"
   ]
  },
  {
   "cell_type": "code",
   "execution_count": 29,
   "id": "5837316c-ca64-4227-9cf1-a9fe5a2bc1a5",
   "metadata": {},
   "outputs": [
    {
     "data": {
      "text/html": [
       "<div>\n",
       "<style scoped>\n",
       "    .dataframe tbody tr th:only-of-type {\n",
       "        vertical-align: middle;\n",
       "    }\n",
       "\n",
       "    .dataframe tbody tr th {\n",
       "        vertical-align: top;\n",
       "    }\n",
       "\n",
       "    .dataframe thead th {\n",
       "        text-align: right;\n",
       "    }\n",
       "</style>\n",
       "<table border=\"1\" class=\"dataframe\">\n",
       "  <thead>\n",
       "    <tr style=\"text-align: right;\">\n",
       "      <th></th>\n",
       "      <th>ID</th>\n",
       "      <th>DATE</th>\n",
       "      <th>States</th>\n",
       "      <th>Contaminates</th>\n",
       "      <th>Death</th>\n",
       "      <th>Recover</th>\n",
       "      <th>Year</th>\n",
       "      <th>Month</th>\n",
       "      <th>Day</th>\n",
       "    </tr>\n",
       "  </thead>\n",
       "  <tbody>\n",
       "    <tr>\n",
       "      <th>0</th>\n",
       "      <td>1</td>\n",
       "      <td>2020-02-27</td>\n",
       "      <td>Abia</td>\n",
       "      <td>0.0</td>\n",
       "      <td>0.0</td>\n",
       "      <td>0.0</td>\n",
       "      <td>2020</td>\n",
       "      <td>February</td>\n",
       "      <td>Thursday</td>\n",
       "    </tr>\n",
       "    <tr>\n",
       "      <th>1</th>\n",
       "      <td>2</td>\n",
       "      <td>2020-02-27</td>\n",
       "      <td>Adamawa</td>\n",
       "      <td>0.0</td>\n",
       "      <td>0.0</td>\n",
       "      <td>0.0</td>\n",
       "      <td>2020</td>\n",
       "      <td>February</td>\n",
       "      <td>Thursday</td>\n",
       "    </tr>\n",
       "    <tr>\n",
       "      <th>2</th>\n",
       "      <td>3</td>\n",
       "      <td>2020-02-27</td>\n",
       "      <td>Akwa Ibom</td>\n",
       "      <td>0.0</td>\n",
       "      <td>0.0</td>\n",
       "      <td>0.0</td>\n",
       "      <td>2020</td>\n",
       "      <td>February</td>\n",
       "      <td>Thursday</td>\n",
       "    </tr>\n",
       "    <tr>\n",
       "      <th>3</th>\n",
       "      <td>4</td>\n",
       "      <td>2020-02-27</td>\n",
       "      <td>Anambra</td>\n",
       "      <td>0.0</td>\n",
       "      <td>0.0</td>\n",
       "      <td>0.0</td>\n",
       "      <td>2020</td>\n",
       "      <td>February</td>\n",
       "      <td>Thursday</td>\n",
       "    </tr>\n",
       "    <tr>\n",
       "      <th>4</th>\n",
       "      <td>5</td>\n",
       "      <td>2020-02-27</td>\n",
       "      <td>Bauchi</td>\n",
       "      <td>0.0</td>\n",
       "      <td>0.0</td>\n",
       "      <td>0.0</td>\n",
       "      <td>2020</td>\n",
       "      <td>February</td>\n",
       "      <td>Thursday</td>\n",
       "    </tr>\n",
       "    <tr>\n",
       "      <th>...</th>\n",
       "      <td>...</td>\n",
       "      <td>...</td>\n",
       "      <td>...</td>\n",
       "      <td>...</td>\n",
       "      <td>...</td>\n",
       "      <td>...</td>\n",
       "      <td>...</td>\n",
       "      <td>...</td>\n",
       "      <td>...</td>\n",
       "    </tr>\n",
       "    <tr>\n",
       "      <th>26861</th>\n",
       "      <td>26862</td>\n",
       "      <td>2022-02-02</td>\n",
       "      <td>Sokoto</td>\n",
       "      <td>0.0</td>\n",
       "      <td>0.0</td>\n",
       "      <td>0.0</td>\n",
       "      <td>2022</td>\n",
       "      <td>February</td>\n",
       "      <td>Wednesday</td>\n",
       "    </tr>\n",
       "    <tr>\n",
       "      <th>26862</th>\n",
       "      <td>26863</td>\n",
       "      <td>2022-02-02</td>\n",
       "      <td>Taraba</td>\n",
       "      <td>0.0</td>\n",
       "      <td>0.0</td>\n",
       "      <td>0.0</td>\n",
       "      <td>2022</td>\n",
       "      <td>February</td>\n",
       "      <td>Wednesday</td>\n",
       "    </tr>\n",
       "    <tr>\n",
       "      <th>26863</th>\n",
       "      <td>26864</td>\n",
       "      <td>2022-02-02</td>\n",
       "      <td>Yobe</td>\n",
       "      <td>0.0</td>\n",
       "      <td>0.0</td>\n",
       "      <td>0.0</td>\n",
       "      <td>2022</td>\n",
       "      <td>February</td>\n",
       "      <td>Wednesday</td>\n",
       "    </tr>\n",
       "    <tr>\n",
       "      <th>26864</th>\n",
       "      <td>26865</td>\n",
       "      <td>2022-02-02</td>\n",
       "      <td>Zamfara</td>\n",
       "      <td>0.0</td>\n",
       "      <td>0.0</td>\n",
       "      <td>0.0</td>\n",
       "      <td>2022</td>\n",
       "      <td>February</td>\n",
       "      <td>Wednesday</td>\n",
       "    </tr>\n",
       "    <tr>\n",
       "      <th>26865</th>\n",
       "      <td>26866</td>\n",
       "      <td>2022-02-02</td>\n",
       "      <td>Non spécifié</td>\n",
       "      <td>0.0</td>\n",
       "      <td>0.0</td>\n",
       "      <td>0.0</td>\n",
       "      <td>2022</td>\n",
       "      <td>February</td>\n",
       "      <td>Wednesday</td>\n",
       "    </tr>\n",
       "  </tbody>\n",
       "</table>\n",
       "<p>26866 rows × 9 columns</p>\n",
       "</div>"
      ],
      "text/plain": [
       "          ID       DATE        States  Contaminates  Death  Recover  Year  \\\n",
       "0          1 2020-02-27          Abia           0.0    0.0      0.0  2020   \n",
       "1          2 2020-02-27       Adamawa           0.0    0.0      0.0  2020   \n",
       "2          3 2020-02-27     Akwa Ibom           0.0    0.0      0.0  2020   \n",
       "3          4 2020-02-27       Anambra           0.0    0.0      0.0  2020   \n",
       "4          5 2020-02-27        Bauchi           0.0    0.0      0.0  2020   \n",
       "...      ...        ...           ...           ...    ...      ...   ...   \n",
       "26861  26862 2022-02-02        Sokoto           0.0    0.0      0.0  2022   \n",
       "26862  26863 2022-02-02        Taraba           0.0    0.0      0.0  2022   \n",
       "26863  26864 2022-02-02          Yobe           0.0    0.0      0.0  2022   \n",
       "26864  26865 2022-02-02       Zamfara           0.0    0.0      0.0  2022   \n",
       "26865  26866 2022-02-02  Non spécifié           0.0    0.0      0.0  2022   \n",
       "\n",
       "          Month        Day  \n",
       "0      February   Thursday  \n",
       "1      February   Thursday  \n",
       "2      February   Thursday  \n",
       "3      February   Thursday  \n",
       "4      February   Thursday  \n",
       "...         ...        ...  \n",
       "26861  February  Wednesday  \n",
       "26862  February  Wednesday  \n",
       "26863  February  Wednesday  \n",
       "26864  February  Wednesday  \n",
       "26865  February  Wednesday  \n",
       "\n",
       "[26866 rows x 9 columns]"
      ]
     },
     "execution_count": 29,
     "metadata": {},
     "output_type": "execute_result"
    }
   ],
   "source": [
    "df"
   ]
  },
  {
   "cell_type": "markdown",
   "id": "8f48a0a2-e544-4802-8cd3-b58ac1aad00e",
   "metadata": {},
   "source": [
    "6. What is the average death recorded in 2020 and 2021?"
   ]
  },
  {
   "cell_type": "code",
   "execution_count": 32,
   "id": "edfb798a-a69a-4eb1-b5f8-5393a9bb5ddf",
   "metadata": {},
   "outputs": [],
   "source": [
    "df['Year'] = df['DATE'].dt.year"
   ]
  },
  {
   "cell_type": "code",
   "execution_count": 39,
   "id": "eda57455-fb3b-45f6-aa0a-10a0fb3ad81f",
   "metadata": {},
   "outputs": [
    {
     "data": {
      "text/plain": [
       "Year\n",
       "2020    0.113678\n",
       "2021    0.125595\n",
       "Name: Death, dtype: float64"
      ]
     },
     "execution_count": 39,
     "metadata": {},
     "output_type": "execute_result"
    }
   ],
   "source": [
    "just_date = df[\n",
    "    (df['DATE'].dt.year == 2020) |\n",
    "    (df['DATE'].dt.year == 2021)\n",
    "]\n",
    "Average = just_date.groupby('Year')['Death'].mean()\n",
    "Average"
   ]
  },
  {
   "cell_type": "code",
   "execution_count": null,
   "id": "c1814980-bbab-4960-97fc-14da365c5b06",
   "metadata": {},
   "outputs": [],
   "source": []
  }
 ],
 "metadata": {
  "kernelspec": {
   "display_name": "Python 3 (ipykernel)",
   "language": "python",
   "name": "python3"
  },
  "language_info": {
   "codemirror_mode": {
    "name": "ipython",
    "version": 3
   },
   "file_extension": ".py",
   "mimetype": "text/x-python",
   "name": "python",
   "nbconvert_exporter": "python",
   "pygments_lexer": "ipython3",
   "version": "3.12.7"
  }
 },
 "nbformat": 4,
 "nbformat_minor": 5
}
