{
 "cells": [
  {
   "cell_type": "code",
   "execution_count": 1,
   "id": "7d01fd2d-bef9-4b18-be3f-f3fdc5729979",
   "metadata": {},
   "outputs": [],
   "source": [
    "#Importing Pandas Library\n",
    "import pandas as pd"
   ]
  },
  {
   "cell_type": "code",
   "execution_count": 6,
   "id": "6bcca215-2fa8-474a-8bda-f0e7251c6a54",
   "metadata": {},
   "outputs": [],
   "source": [
    "#creating dictionary\n",
    "Data_analytics_student = {\n",
    "    'Name':['Favour', 'Praise','Peculiar','Janet','Gift','Princess'],\n",
    "    'Age':[12,10,13,17,20,11],\n",
    "    'Location':['Karu','Gwagalada','Lugbe','Maitama','Kubwa','Gwarimpa'],\n",
    "    'Hobby':['singing','drawing','acting','reading','dancing','cooking']\n",
    "}"
   ]
  },
  {
   "cell_type": "code",
   "execution_count": 11,
   "id": "b008a7fd-d0a4-41aa-9a78-cbdde7215cc8",
   "metadata": {},
   "outputs": [
    {
     "data": {
      "text/html": [
       "<div>\n",
       "<style scoped>\n",
       "    .dataframe tbody tr th:only-of-type {\n",
       "        vertical-align: middle;\n",
       "    }\n",
       "\n",
       "    .dataframe tbody tr th {\n",
       "        vertical-align: top;\n",
       "    }\n",
       "\n",
       "    .dataframe thead th {\n",
       "        text-align: right;\n",
       "    }\n",
       "</style>\n",
       "<table border=\"1\" class=\"dataframe\">\n",
       "  <thead>\n",
       "    <tr style=\"text-align: right;\">\n",
       "      <th></th>\n",
       "      <th>Name</th>\n",
       "      <th>Age</th>\n",
       "      <th>Location</th>\n",
       "      <th>Hobby</th>\n",
       "    </tr>\n",
       "  </thead>\n",
       "  <tbody>\n",
       "    <tr>\n",
       "      <th>0</th>\n",
       "      <td>Favour</td>\n",
       "      <td>12</td>\n",
       "      <td>Karu</td>\n",
       "      <td>singing</td>\n",
       "    </tr>\n",
       "    <tr>\n",
       "      <th>1</th>\n",
       "      <td>Praise</td>\n",
       "      <td>10</td>\n",
       "      <td>Gwagalada</td>\n",
       "      <td>drawing</td>\n",
       "    </tr>\n",
       "    <tr>\n",
       "      <th>2</th>\n",
       "      <td>Peculiar</td>\n",
       "      <td>13</td>\n",
       "      <td>Lugbe</td>\n",
       "      <td>acting</td>\n",
       "    </tr>\n",
       "    <tr>\n",
       "      <th>3</th>\n",
       "      <td>Janet</td>\n",
       "      <td>17</td>\n",
       "      <td>Maitama</td>\n",
       "      <td>reading</td>\n",
       "    </tr>\n",
       "    <tr>\n",
       "      <th>4</th>\n",
       "      <td>Gift</td>\n",
       "      <td>20</td>\n",
       "      <td>Kubwa</td>\n",
       "      <td>dancing</td>\n",
       "    </tr>\n",
       "    <tr>\n",
       "      <th>5</th>\n",
       "      <td>Princess</td>\n",
       "      <td>11</td>\n",
       "      <td>Gwarimpa</td>\n",
       "      <td>cooking</td>\n",
       "    </tr>\n",
       "  </tbody>\n",
       "</table>\n",
       "</div>"
      ],
      "text/plain": [
       "       Name  Age   Location    Hobby\n",
       "0    Favour   12       Karu  singing\n",
       "1    Praise   10  Gwagalada  drawing\n",
       "2  Peculiar   13      Lugbe   acting\n",
       "3     Janet   17    Maitama  reading\n",
       "4      Gift   20      Kubwa  dancing\n",
       "5  Princess   11   Gwarimpa  cooking"
      ]
     },
     "execution_count": 11,
     "metadata": {},
     "output_type": "execute_result"
    }
   ],
   "source": [
    "#converting to dataframe\n",
    "df = pd.DataFrame(Data_analytics_student)\n",
    "df"
   ]
  },
  {
   "cell_type": "code",
   "execution_count": 15,
   "id": "b69ca86a-6363-4264-827a-8a7c8915080d",
   "metadata": {},
   "outputs": [
    {
     "data": {
      "text/plain": [
       "0    12\n",
       "1    10\n",
       "2    13\n",
       "3    17\n",
       "4    20\n",
       "5    11\n",
       "Name: Age, dtype: int64"
      ]
     },
     "execution_count": 15,
     "metadata": {},
     "output_type": "execute_result"
    }
   ],
   "source": [
    "df['Age']"
   ]
  },
  {
   "cell_type": "code",
   "execution_count": 19,
   "id": "f59d12cc-51b4-4a93-9952-039626f183f4",
   "metadata": {},
   "outputs": [
    {
     "data": {
      "text/html": [
       "<div>\n",
       "<style scoped>\n",
       "    .dataframe tbody tr th:only-of-type {\n",
       "        vertical-align: middle;\n",
       "    }\n",
       "\n",
       "    .dataframe tbody tr th {\n",
       "        vertical-align: top;\n",
       "    }\n",
       "\n",
       "    .dataframe thead th {\n",
       "        text-align: right;\n",
       "    }\n",
       "</style>\n",
       "<table border=\"1\" class=\"dataframe\">\n",
       "  <thead>\n",
       "    <tr style=\"text-align: right;\">\n",
       "      <th></th>\n",
       "      <th>Name</th>\n",
       "      <th>Age</th>\n",
       "      <th>Location</th>\n",
       "      <th>Hobby</th>\n",
       "    </tr>\n",
       "  </thead>\n",
       "  <tbody>\n",
       "    <tr>\n",
       "      <th>2</th>\n",
       "      <td>Peculiar</td>\n",
       "      <td>13</td>\n",
       "      <td>Lugbe</td>\n",
       "      <td>acting</td>\n",
       "    </tr>\n",
       "    <tr>\n",
       "      <th>3</th>\n",
       "      <td>Janet</td>\n",
       "      <td>17</td>\n",
       "      <td>Maitama</td>\n",
       "      <td>reading</td>\n",
       "    </tr>\n",
       "  </tbody>\n",
       "</table>\n",
       "</div>"
      ],
      "text/plain": [
       "       Name  Age Location    Hobby\n",
       "2  Peculiar   13    Lugbe   acting\n",
       "3     Janet   17  Maitama  reading"
      ]
     },
     "execution_count": 19,
     "metadata": {},
     "output_type": "execute_result"
    }
   ],
   "source": [
    "#selecting row index 2\n",
    "df['Name']\n",
    "df['Location']\n",
    "df['Age']\n",
    "df.iloc [2]\n",
    "df.iloc[2:4]"
   ]
  },
  {
   "cell_type": "code",
   "execution_count": 20,
   "id": "1794acf5-c6ae-483d-bf2e-1c325e05e9e9",
   "metadata": {},
   "outputs": [],
   "source": [
    "#create a dictionary that has 3 keys and contains 5 values in each keys\n",
    "#convert to dataframe\n",
    "#select the second column\n",
    "#select the item in row index number 2 above"
   ]
  },
  {
   "cell_type": "code",
   "execution_count": 21,
   "id": "1ce3bb0c-a290-4011-96f9-2f18936fa70e",
   "metadata": {},
   "outputs": [],
   "source": [
    "Manufacturers ={\n",
    "    'Automobiles':['Toyota', 'Volkswagen','Ford','Hyundia','Kia'],\n",
    "    'Beverages':['Cadbury','Bournvita','Nestle','Peak','Unilever'],\n",
    "    'Fruits':['Plum','Banana','Apple','Pear','Orange'],\n",
    "}"
   ]
  },
  {
   "cell_type": "code",
   "execution_count": 24,
   "id": "03180453-a577-458f-8c7f-44e167068396",
   "metadata": {},
   "outputs": [
    {
     "data": {
      "text/html": [
       "<div>\n",
       "<style scoped>\n",
       "    .dataframe tbody tr th:only-of-type {\n",
       "        vertical-align: middle;\n",
       "    }\n",
       "\n",
       "    .dataframe tbody tr th {\n",
       "        vertical-align: top;\n",
       "    }\n",
       "\n",
       "    .dataframe thead th {\n",
       "        text-align: right;\n",
       "    }\n",
       "</style>\n",
       "<table border=\"1\" class=\"dataframe\">\n",
       "  <thead>\n",
       "    <tr style=\"text-align: right;\">\n",
       "      <th></th>\n",
       "      <th>Automobiles</th>\n",
       "      <th>Beverages</th>\n",
       "      <th>Fruits</th>\n",
       "    </tr>\n",
       "  </thead>\n",
       "  <tbody>\n",
       "    <tr>\n",
       "      <th>0</th>\n",
       "      <td>Toyota</td>\n",
       "      <td>Cadbury</td>\n",
       "      <td>Plum</td>\n",
       "    </tr>\n",
       "    <tr>\n",
       "      <th>1</th>\n",
       "      <td>Volkswagen</td>\n",
       "      <td>Bournvita</td>\n",
       "      <td>Banana</td>\n",
       "    </tr>\n",
       "    <tr>\n",
       "      <th>2</th>\n",
       "      <td>Ford</td>\n",
       "      <td>Nestle</td>\n",
       "      <td>Apple</td>\n",
       "    </tr>\n",
       "    <tr>\n",
       "      <th>3</th>\n",
       "      <td>Hyundia</td>\n",
       "      <td>Peak</td>\n",
       "      <td>Pear</td>\n",
       "    </tr>\n",
       "    <tr>\n",
       "      <th>4</th>\n",
       "      <td>Kia</td>\n",
       "      <td>Unilever</td>\n",
       "      <td>Orange</td>\n",
       "    </tr>\n",
       "  </tbody>\n",
       "</table>\n",
       "</div>"
      ],
      "text/plain": [
       "  Automobiles  Beverages  Fruits\n",
       "0      Toyota    Cadbury    Plum\n",
       "1  Volkswagen  Bournvita  Banana\n",
       "2        Ford     Nestle   Apple\n",
       "3     Hyundia       Peak    Pear\n",
       "4         Kia   Unilever  Orange"
      ]
     },
     "execution_count": 24,
     "metadata": {},
     "output_type": "execute_result"
    }
   ],
   "source": [
    "df = pd.DataFrame(Manufacturers)\n",
    "df"
   ]
  },
  {
   "cell_type": "code",
   "execution_count": 28,
   "id": "0b91c33a-bff2-4a24-b79b-60b18e3c60d4",
   "metadata": {},
   "outputs": [
    {
     "data": {
      "text/plain": [
       "0      Cadbury\n",
       "1    Bournvita\n",
       "2       Nestle\n",
       "3         Peak\n",
       "4     Unilever\n",
       "Name: Beverages, dtype: object"
      ]
     },
     "execution_count": 28,
     "metadata": {},
     "output_type": "execute_result"
    }
   ],
   "source": [
    "df['Beverages']"
   ]
  },
  {
   "cell_type": "code",
   "execution_count": 26,
   "id": "b9c9b9ae-0b51-4414-b166-c7c611902b51",
   "metadata": {},
   "outputs": [
    {
     "data": {
      "text/html": [
       "<div>\n",
       "<style scoped>\n",
       "    .dataframe tbody tr th:only-of-type {\n",
       "        vertical-align: middle;\n",
       "    }\n",
       "\n",
       "    .dataframe tbody tr th {\n",
       "        vertical-align: top;\n",
       "    }\n",
       "\n",
       "    .dataframe thead th {\n",
       "        text-align: right;\n",
       "    }\n",
       "</style>\n",
       "<table border=\"1\" class=\"dataframe\">\n",
       "  <thead>\n",
       "    <tr style=\"text-align: right;\">\n",
       "      <th></th>\n",
       "      <th>Automobiles</th>\n",
       "      <th>Beverages</th>\n",
       "      <th>Fruits</th>\n",
       "    </tr>\n",
       "  </thead>\n",
       "  <tbody>\n",
       "    <tr>\n",
       "      <th>2</th>\n",
       "      <td>Ford</td>\n",
       "      <td>Nestle</td>\n",
       "      <td>Apple</td>\n",
       "    </tr>\n",
       "    <tr>\n",
       "      <th>3</th>\n",
       "      <td>Hyundia</td>\n",
       "      <td>Peak</td>\n",
       "      <td>Pear</td>\n",
       "    </tr>\n",
       "    <tr>\n",
       "      <th>4</th>\n",
       "      <td>Kia</td>\n",
       "      <td>Unilever</td>\n",
       "      <td>Orange</td>\n",
       "    </tr>\n",
       "  </tbody>\n",
       "</table>\n",
       "</div>"
      ],
      "text/plain": [
       "  Automobiles Beverages  Fruits\n",
       "2        Ford    Nestle   Apple\n",
       "3     Hyundia      Peak    Pear\n",
       "4         Kia  Unilever  Orange"
      ]
     },
     "execution_count": 26,
     "metadata": {},
     "output_type": "execute_result"
    }
   ],
   "source": [
    "df.iloc[2:5]"
   ]
  },
  {
   "cell_type": "markdown",
   "id": "1a242d46-cd24-4987-a8f0-dffde5cd2d9a",
   "metadata": {},
   "source": [
    "Loading Data"
   ]
  },
  {
   "cell_type": "code",
   "execution_count": null,
   "id": "75e87cb3-9bd2-4be0-99d7-2fb47e7e2127",
   "metadata": {},
   "outputs": [],
   "source": []
  }
 ],
 "metadata": {
  "kernelspec": {
   "display_name": "Python 3 (ipykernel)",
   "language": "python",
   "name": "python3"
  },
  "language_info": {
   "codemirror_mode": {
    "name": "ipython",
    "version": 3
   },
   "file_extension": ".py",
   "mimetype": "text/x-python",
   "name": "python",
   "nbconvert_exporter": "python",
   "pygments_lexer": "ipython3",
   "version": "3.12.7"
  }
 },
 "nbformat": 4,
 "nbformat_minor": 5
}
