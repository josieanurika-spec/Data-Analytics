{
 "cells": [
  {
   "cell_type": "code",
   "execution_count": 1,
   "id": "d457e85d-5ecb-4e30-928f-5920ada77466",
   "metadata": {},
   "outputs": [
    {
     "name": "stdout",
     "output_type": "stream",
     "text": [
      "Something is wrong\n"
     ]
    }
   ],
   "source": [
    "a = 10\n",
    "b = 20\n",
    "c = 25\n",
    "\n",
    "if a < b and a > c:\n",
    "    print('A is bigger')\n",
    "\n",
    "else:\n",
    "    print('Something is wrong')\n"
   ]
  },
  {
   "cell_type": "markdown",
   "id": "77686b6c-c0c7-44b8-b70b-20f0d204405b",
   "metadata": {},
   "source": [
    "Login Application"
   ]
  },
  {
   "cell_type": "code",
   "execution_count": 2,
   "id": "2c8ce572-b857-4491-9570-e45a649ec34a",
   "metadata": {},
   "outputs": [
    {
     "name": "stdout",
     "output_type": "stream",
     "text": [
      "Welcome Chibuike!\n"
     ]
    }
   ],
   "source": [
    "stored_username = 'Chibuike'\n",
    "stored_password = '12345'\n",
    "\n",
    "\n",
    "if stored_username == 'Chibuike' or stored_password == '12345':\n",
    "    print(f\"Welcome {stored_username}!\")\n",
    "else:\n",
    "    print('Sorry, username or password not correct')"
   ]
  },
  {
   "cell_type": "code",
   "execution_count": 4,
   "id": "d3dbde54-53b7-460b-9bc3-3b3cfd65b76b",
   "metadata": {},
   "outputs": [
    {
     "name": "stdin",
     "output_type": "stream",
     "text": [
      "Enter your username: chibuike\n"
     ]
    },
    {
     "name": "stdout",
     "output_type": "stream",
     "text": [
      "Welcome chibuike\n"
     ]
    }
   ],
   "source": [
    "username = input('Enter your username:')\n",
    "print(f\"Welcome {username}\")"
   ]
  },
  {
   "cell_type": "code",
   "execution_count": null,
   "id": "d94fa233-9553-4051-8b52-9a18420f1f84",
   "metadata": {},
   "outputs": [],
   "source": []
  },
  {
   "cell_type": "code",
   "execution_count": 1,
   "id": "24430da2-40e4-4b0f-8ad5-d5f774ff3ab6",
   "metadata": {},
   "outputs": [
    {
     "name": "stdin",
     "output_type": "stream",
     "text": [
      "Enter your username:  ee\n",
      "Enter your password:  ee\n"
     ]
    },
    {
     "name": "stdout",
     "output_type": "stream",
     "text": [
      "sorry, ee is not registered\n"
     ]
    }
   ],
   "source": [
    "stored_username = 'Chibuike'\n",
    "stored_password = '12345'\n",
    "\n",
    "User = input('Enter your username: ')\n",
    "password = input('Enter your password: ')\n",
    "\n",
    "\n",
    "if stored_username == User and stored_password == password:\n",
    "    print(f\"Welcome {User}\")\n",
    "    print(f\"your password is*****\")\n",
    "else:\n",
    "    print(f\"sorry, {User} is not registered\")"
   ]
  },
  {
   "cell_type": "markdown",
   "id": "ca5a8203-a861-4ba6-886a-a52fd5e3a685",
   "metadata": {},
   "source": [
    "Data Type Conversion"
   ]
  },
  {
   "cell_type": "code",
   "execution_count": 50,
   "id": "67918f66-b2b2-4759-b855-41bdc143c525",
   "metadata": {},
   "outputs": [
    {
     "data": {
      "text/plain": [
       "4.0"
      ]
     },
     "execution_count": 50,
     "metadata": {},
     "output_type": "execute_result"
    }
   ],
   "source": [
    "a = 2\n",
    "b = '2'\n",
    "c = float(b)\n",
    "d = str(a)\n",
    "a + c"
   ]
  },
  {
   "cell_type": "markdown",
   "id": "331ed254-1646-4e95-b9f9-0b89c6fff037",
   "metadata": {},
   "source": [
    "Mini Bank App"
   ]
  },
  {
   "cell_type": "code",
   "execution_count": 53,
   "id": "c0a662c5-cc57-47a0-be04-dfd513aaf830",
   "metadata": {},
   "outputs": [
    {
     "name": "stdin",
     "output_type": "stream",
     "text": [
      "How much do you want to withdraw:  35000\n"
     ]
    },
    {
     "name": "stdout",
     "output_type": "stream",
     "text": [
      "You have withdrawn 35000\n",
      "Your balance is 65000\n"
     ]
    }
   ],
   "source": [
    "Balance = 100000\n",
    "\n",
    "amount = int(input ('How much do you want to withdraw: '))\n",
    "total = Balance - amount\n",
    "if amount < Balance:\n",
    "    print(f\"You have withdrawn {amount}\")\n",
    "    print(f\"Your balance is {total}\")"
   ]
  },
  {
   "cell_type": "code",
   "execution_count": null,
   "id": "6ab39969-3209-4fe3-8e13-654bfc32546c",
   "metadata": {},
   "outputs": [],
   "source": [
    "#create a system that would check between two numbers\n",
    "#if the first number is greater than the second number, then minus the second \n",
    "#from the first, else just add them up."
   ]
  },
  {
   "cell_type": "markdown",
   "id": "4f914dc4-8284-4724-8048-f8b6e1402639",
   "metadata": {},
   "source": [
    "Classwork"
   ]
  },
  {
   "cell_type": "code",
   "execution_count": 63,
   "id": "8688a3bb-5116-4be7-ba74-027d014c27e7",
   "metadata": {},
   "outputs": [
    {
     "name": "stdin",
     "output_type": "stream",
     "text": [
      "  200\n",
      "  300\n"
     ]
    },
    {
     "name": "stdout",
     "output_type": "stream",
     "text": [
      "500\n"
     ]
    }
   ],
   "source": [
    "\n",
    "a = int(input(' '))\n",
    "b = int(input(' '))\n",
    "\n",
    "if a > b:\n",
    "    print(a-b)\n",
    "\n",
    "else:\n",
    "    print(a+b)\n",
    "\n"
   ]
  },
  {
   "cell_type": "markdown",
   "id": "9331b194-bea2-4dd3-b8e0-0ac2794470bc",
   "metadata": {},
   "source": [
    "Python List"
   ]
  },
  {
   "cell_type": "code",
   "execution_count": 1,
   "id": "cd209c64-aa53-499c-9b61-52458a07080a",
   "metadata": {},
   "outputs": [
    {
     "data": {
      "text/plain": [
       "list"
      ]
     },
     "execution_count": 1,
     "metadata": {},
     "output_type": "execute_result"
    }
   ],
   "source": [
    "fruit = ['orange','mango','apple','banana']\n",
    "names = ['Jo','Chi','King']\n",
    "a = '2.9'\n",
    "type(fruit)\n",
    "len(fruit)"
   ]
  },
  {
   "cell_type": "markdown",
   "id": "60ca5e20-0137-4c84-8fa7-16a7df4a906a",
   "metadata": {},
   "source": [
    "List Indexing"
   ]
  },
  {
   "cell_type": "code",
   "execution_count": 3,
   "id": "f29f5c25-fd88-4c5f-b66b-29f139616556",
   "metadata": {},
   "outputs": [
    {
     "data": {
      "text/plain": [
       "['orange', 'mango']"
      ]
     },
     "execution_count": 3,
     "metadata": {},
     "output_type": "execute_result"
    }
   ],
   "source": [
    "fruit[0:2]"
   ]
  },
  {
   "cell_type": "markdown",
   "id": "7e1124aa-9e28-4b91-a075-96a7808f5eb3",
   "metadata": {},
   "source": [
    "Changing Items Value"
   ]
  },
  {
   "cell_type": "code",
   "execution_count": 4,
   "id": "c1f48a59-892b-4044-b2da-4e3419d7cccd",
   "metadata": {},
   "outputs": [
    {
     "data": {
      "text/plain": [
       "['orange', 'mango', 'apple', 'pineapple']"
      ]
     },
     "execution_count": 4,
     "metadata": {},
     "output_type": "execute_result"
    }
   ],
   "source": [
    "fruit[3] = 'pineapple'\n",
    "fruit"
   ]
  },
  {
   "cell_type": "markdown",
   "id": "fdf9f936-c970-490c-9166-fae91e2a8668",
   "metadata": {},
   "source": [
    "Insert items"
   ]
  },
  {
   "cell_type": "code",
   "execution_count": 2,
   "id": "619c527c-79d9-4648-9fd3-2fea46a38b3f",
   "metadata": {},
   "outputs": [
    {
     "data": {
      "text/plain": [
       "['orange', 'mango', 'pawpaw', 'apple', 'banana']"
      ]
     },
     "execution_count": 2,
     "metadata": {},
     "output_type": "execute_result"
    }
   ],
   "source": [
    "fruit.insert(2, 'pawpaw')\n",
    "fruit"
   ]
  },
  {
   "cell_type": "code",
   "execution_count": 5,
   "id": "e266a358-9ba8-4e8b-b000-31de96de0bc8",
   "metadata": {},
   "outputs": [
    {
     "name": "stdout",
     "output_type": "stream",
     "text": [
      "['orange', 'mango', 'apple', 'pineapple']\n"
     ]
    }
   ],
   "source": [
    "print(fruit)"
   ]
  },
  {
   "cell_type": "code",
   "execution_count": 44,
   "id": "0c167bef-f15c-4b31-abcf-58200f326ffa",
   "metadata": {},
   "outputs": [],
   "source": [
    "fruit.append('strawberry')"
   ]
  },
  {
   "cell_type": "code",
   "execution_count": 45,
   "id": "8c4c7396-0aea-490e-ba14-bcc35c938d0d",
   "metadata": {},
   "outputs": [
    {
     "data": {
      "text/plain": [
       "['orange',\n",
       " 'Cashew',\n",
       " 'pawpaw',\n",
       " 'plant',\n",
       " 'last fruit',\n",
       " 'apple',\n",
       " 'pineapple',\n",
       " 'last fruit',\n",
       " 'last fruit',\n",
       " 'strawberry',\n",
       " 'strawberry']"
      ]
     },
     "execution_count": 45,
     "metadata": {},
     "output_type": "execute_result"
    }
   ],
   "source": [
    "fruit"
   ]
  },
  {
   "cell_type": "code",
   "execution_count": 6,
   "id": "3e286e8d-679d-4718-9033-a2a43c784c38",
   "metadata": {},
   "outputs": [],
   "source": [
    "fruit.remove('orange')"
   ]
  },
  {
   "cell_type": "code",
   "execution_count": 7,
   "id": "c4357529-b2a9-4ddc-bc01-993c7b46ca5e",
   "metadata": {},
   "outputs": [
    {
     "data": {
      "text/plain": [
       "['mango', 'apple', 'pineapple']"
      ]
     },
     "execution_count": 7,
     "metadata": {},
     "output_type": "execute_result"
    }
   ],
   "source": [
    "fruit"
   ]
  },
  {
   "cell_type": "code",
   "execution_count": 8,
   "id": "2b94ff39-3614-4cb6-919b-7aaa872da85b",
   "metadata": {},
   "outputs": [
    {
     "data": {
      "text/plain": [
       "'apple'"
      ]
     },
     "execution_count": 8,
     "metadata": {},
     "output_type": "execute_result"
    }
   ],
   "source": [
    "fruit.pop(1)"
   ]
  },
  {
   "cell_type": "code",
   "execution_count": 9,
   "id": "913ed2bd-54c7-4611-8525-b6841683ff7f",
   "metadata": {},
   "outputs": [
    {
     "data": {
      "text/plain": [
       "['Jo', 'Chi', 'King']"
      ]
     },
     "execution_count": 9,
     "metadata": {},
     "output_type": "execute_result"
    }
   ],
   "source": [
    "names"
   ]
  },
  {
   "cell_type": "code",
   "execution_count": 10,
   "id": "cc69118b-9425-4a04-afea-f2df0536ef87",
   "metadata": {},
   "outputs": [
    {
     "data": {
      "text/plain": [
       "['Chi', 'Jo', 'King']"
      ]
     },
     "execution_count": 10,
     "metadata": {},
     "output_type": "execute_result"
    }
   ],
   "source": [
    "names.sort()\n",
    "names"
   ]
  },
  {
   "cell_type": "code",
   "execution_count": 15,
   "id": "f2fa9477-7b69-4f26-ade7-f93d16a7fc4a",
   "metadata": {},
   "outputs": [
    {
     "data": {
      "text/plain": [
       "['King', 'Jo', 'Chi']"
      ]
     },
     "execution_count": 15,
     "metadata": {},
     "output_type": "execute_result"
    }
   ],
   "source": [
    "names.sort(reverse = True)\n",
    "names"
   ]
  },
  {
   "cell_type": "code",
   "execution_count": 20,
   "id": "1ec6ef10-1801-4e48-b6cc-7dc533a13793",
   "metadata": {},
   "outputs": [
    {
     "data": {
      "text/plain": [
       "[2, 3, 7, 8, 33, 55]"
      ]
     },
     "execution_count": 20,
     "metadata": {},
     "output_type": "execute_result"
    }
   ],
   "source": [
    "a = [2,7,33,55,8,3,]\n",
    "\n",
    "a.sort(reverse = False)\n",
    "a"
   ]
  },
  {
   "cell_type": "markdown",
   "id": "bcd4d886-1134-4673-bd82-9c058301e166",
   "metadata": {},
   "source": [
    "Python Dictionary"
   ]
  },
  {
   "cell_type": "code",
   "execution_count": 8,
   "id": "82ae05bd-7055-46ba-add6-99189878e541",
   "metadata": {},
   "outputs": [
    {
     "name": "stdout",
     "output_type": "stream",
     "text": [
      "<class 'tuple'>\n",
      "<class 'list'>\n",
      "<class 'dict'>\n"
     ]
    }
   ],
   "source": [
    "Student = {'fname': 'Chibuike',\n",
    "           'lname': 'Kingsley',  \n",
    "           'Age':17,  \n",
    "           'State': 'Abuja'\n",
    "}\n",
    "\n",
    "a = (3,4,5,6,1,7) #tuple\n",
    "b = [6,3,4,2,5,6] #List\n",
    "c = {'name':'chibuike'} #dictionary\n",
    "\n",
    "print(type(a))\n",
    "print(type(b))\n",
    "print(type(c))"
   ]
  },
  {
   "cell_type": "code",
   "execution_count": 5,
   "id": "3c372c56-cd91-4481-ae5b-9a0a3505d510",
   "metadata": {},
   "outputs": [
    {
     "data": {
      "text/plain": [
       "dict"
      ]
     },
     "execution_count": 5,
     "metadata": {},
     "output_type": "execute_result"
    }
   ],
   "source": [
    "type(Student)"
   ]
  },
  {
   "cell_type": "code",
   "execution_count": 25,
   "id": "608d85d9-0d22-4a4c-a6e9-eec5f73f4c4c",
   "metadata": {},
   "outputs": [
    {
     "data": {
      "text/plain": [
       "77"
      ]
     },
     "execution_count": 25,
     "metadata": {},
     "output_type": "execute_result"
    }
   ],
   "source": [
    "b = ['chibuike', 12, 'kingsley', 65]#list\n",
    "\n",
    "b[1]+b[3]"
   ]
  },
  {
   "cell_type": "code",
   "execution_count": 27,
   "id": "6c9950ac-9e0b-4db5-bcf7-1708f02d8f93",
   "metadata": {},
   "outputs": [
    {
     "data": {
      "text/plain": [
       "17"
      ]
     },
     "execution_count": 27,
     "metadata": {},
     "output_type": "execute_result"
    }
   ],
   "source": [
    "Student['Age']"
   ]
  },
  {
   "cell_type": "code",
   "execution_count": null,
   "id": "5ed61218-5ff4-44ac-8383-17d1985057d1",
   "metadata": {},
   "outputs": [],
   "source": [
    "scores = [233,344,3554,455,543]\n",
    "names = ['chibuike','kingsley']"
   ]
  },
  {
   "cell_type": "markdown",
   "id": "abb7c05f-63f6-4aaa-9749-4390abdbb506",
   "metadata": {},
   "source": [
    "LOOP"
   ]
  },
  {
   "cell_type": "code",
   "execution_count": 3,
   "id": "79b19a77-6006-4eb9-ba79-df79dceec0e6",
   "metadata": {},
   "outputs": [
    {
     "name": "stdout",
     "output_type": "stream",
     "text": [
      "mango\n",
      "cloth\n",
      "rice\n",
      "4\n",
      "ball\n",
      "laptop\n"
     ]
    }
   ],
   "source": [
    "bag = ['mango', 'cloth', 'rice', 4, 'ball', 'laptop']\n",
    "for anything in bag:\n",
    "    print(anything)"
   ]
  },
  {
   "cell_type": "code",
   "execution_count": 13,
   "id": "4c77afd2-891f-4381-bf79-2a3878c5ed8e",
   "metadata": {},
   "outputs": [
    {
     "name": "stdout",
     "output_type": "stream",
     "text": [
      "cat\n",
      "dog\n",
      "rat\n",
      "fish\n"
     ]
    }
   ],
   "source": [
    "animals =['cat', 'dog', 'rat', 'fish']\n",
    "for f in animals:\n",
    "    print(f)"
   ]
  },
  {
   "cell_type": "code",
   "execution_count": 12,
   "id": "1b0cf4c7-6c7f-4519-980b-350f725469d0",
   "metadata": {
    "scrolled": true
   },
   "outputs": [
    {
     "name": "stdout",
     "output_type": "stream",
     "text": [
      "1\n",
      "2\n",
      "3\n",
      "4\n",
      "5\n"
     ]
    }
   ],
   "source": [
    "numbers = [1,2,3,4,5,6,7,8]\n",
    "for x in numbers:\n",
    "    if x == 6:\n",
    "        break \n",
    "    \n",
    "    print(x)"
   ]
  },
  {
   "cell_type": "code",
   "execution_count": 7,
   "id": "9757b857-b3c4-4fd0-a2df-c25708e82b84",
   "metadata": {},
   "outputs": [
    {
     "name": "stdout",
     "output_type": "stream",
     "text": [
      "1\n",
      "2\n",
      "3\n",
      "5\n",
      "6\n"
     ]
    }
   ],
   "source": [
    "numerals = [1,2,3,4,5,6]\n",
    "for y in numerals:\n",
    "    if y == 4:\n",
    "        continue\n",
    "    \n",
    "    print(y)"
   ]
  },
  {
   "cell_type": "code",
   "execution_count": 19,
   "id": "575417b4-524a-41d7-b95a-c684df35a61d",
   "metadata": {
    "scrolled": true
   },
   "outputs": [
    {
     "name": "stdout",
     "output_type": "stream",
     "text": [
      "1\n",
      "2\n",
      "3\n",
      "4\n",
      "5\n",
      "7\n",
      "8\n"
     ]
    }
   ],
   "source": [
    "numbers = [1,2,3,4,5,6,7,8]\n",
    "for x in numbers:\n",
    "    if x == 6:\n",
    "        continue\n",
    "    print(x)"
   ]
  },
  {
   "cell_type": "code",
   "execution_count": 20,
   "id": "04aa80f0-f6fc-4441-a2bf-907e90e46b00",
   "metadata": {},
   "outputs": [
    {
     "name": "stdout",
     "output_type": "stream",
     "text": [
      "6 is not there\n"
     ]
    }
   ],
   "source": [
    "#First condition\n",
    "if 6 in bag:\n",
    "    print('6 is there')\n",
    "    #Second condition\n",
    "    if 'mango' is in box:\n",
    "        print('Mango is there also')\n",
    "    else:\n",
    "        print('Mango is not there')\n",
    "else:\n",
    "    print('6 is not there')"
   ]
  },
  {
   "cell_type": "code",
   "execution_count": null,
   "id": "69c17dfa-9e89-491b-a9f4-730e8aac4ca1",
   "metadata": {},
   "outputs": [],
   "source": [
    "#1. Create a list and store different names in it\n",
    "#2. Ask for user input i.e. the name of the user, and check if the names is in the list\n",
    "#3. Have a list of different artist\n",
    "#4. Ask users to type the name of any artist they know, and confirm if its in that list, if they got the answer, tell them the got the answer.\n",
    "#5. Ask the same question again as question number 2 and confirm if their answer is also in the list."
   ]
  },
  {
   "cell_type": "code",
   "execution_count": 34,
   "id": "ca6c4a2a-606a-4fe6-a8c6-41bc63511223",
   "metadata": {},
   "outputs": [
    {
     "name": "stdin",
     "output_type": "stream",
     "text": [
      "Enter Username ogo\n"
     ]
    },
    {
     "name": "stdout",
     "output_type": "stream",
     "text": [
      "Sorry,ogo is not registered!\n"
     ]
    }
   ],
   "source": [
    "Names = ['Ade', 'Paula', 'Joy']\n",
    "Artists = ['Mike','Charlie','Gracie']\n",
    "User = input('Enter Username')\n",
    "\n",
    "#question 1\n",
    "if User in Names:\n",
    "    print(f\"Welcome {User}\")\n",
    "    \n",
    "    q1 = input('Enter an artist name:')\n",
    "    if q1 in Artists:\n",
    "        print(f\"{q1} is an artist\")\n",
    "    else:\n",
    "        f\"{q1} is not an artist\"\n",
    "\n",
    "#question 2\n",
    "    q2 = input('Enter an artist name:')\n",
    "    if q2 in Artists:\n",
    "        print(f\"{q2} is an artist name\")\n",
    "    else:\n",
    "        f\"{q2} is not an artist\"\n",
    "        \n",
    "        \n",
    "else: \n",
    "    print(f\"Sorry,{User} is not registered!\")\n",
    "      \n",
    "\n"
   ]
  },
  {
   "cell_type": "code",
   "execution_count": 11,
   "id": "cf0be060-8de9-474d-9f92-fea1448ce447",
   "metadata": {},
   "outputs": [
    {
     "name": "stdin",
     "output_type": "stream",
     "text": [
      "Enter username nn\n",
      "Enter username mm\n",
      "Enter username mmm\n"
     ]
    }
   ],
   "source": [
    "for x in range(3):\n",
    "    input('Enter username')"
   ]
  },
  {
   "cell_type": "code",
   "execution_count": 1,
   "id": "c00ba6d0-29f3-4016-8dcb-547e56921154",
   "metadata": {},
   "outputs": [
    {
     "name": "stdin",
     "output_type": "stream",
     "text": [
      "Enter a name: Jo\n"
     ]
    },
    {
     "name": "stdout",
     "output_type": "stream",
     "text": [
      "The current list is ['Jo']\n"
     ]
    },
    {
     "name": "stdin",
     "output_type": "stream",
     "text": [
      "Enter a name: John\n"
     ]
    },
    {
     "name": "stdout",
     "output_type": "stream",
     "text": [
      "The current list is ['Jo', 'John']\n"
     ]
    },
    {
     "name": "stdin",
     "output_type": "stream",
     "text": [
      "Enter a name: Joan\n"
     ]
    },
    {
     "name": "stdout",
     "output_type": "stream",
     "text": [
      "The current list is ['Jo', 'John', 'Joan']\n"
     ]
    },
    {
     "name": "stdin",
     "output_type": "stream",
     "text": [
      "Enter a name: Jonah\n"
     ]
    },
    {
     "name": "stdout",
     "output_type": "stream",
     "text": [
      "The current list is ['Jo', 'John', 'Joan', 'Jonah']\n"
     ]
    }
   ],
   "source": [
    "name = []\n",
    "for x in range(4):\n",
    "    user = input('Enter a name:')\n",
    "    name.append(user)\n",
    "    print('The current list is', name)"
   ]
  },
  {
   "cell_type": "code",
   "execution_count": 20,
   "id": "f5ec7cbc-679a-4f23-9752-df5f19b76874",
   "metadata": {},
   "outputs": [
    {
     "data": {
      "text/plain": [
       "['Jo']"
      ]
     },
     "execution_count": 20,
     "metadata": {},
     "output_type": "execute_result"
    }
   ],
   "source": [
    "name"
   ]
  },
  {
   "cell_type": "code",
   "execution_count": 4,
   "id": "e35d8be3-d156-42ba-8883-b1d8a7110b7b",
   "metadata": {},
   "outputs": [
    {
     "name": "stdin",
     "output_type": "stream",
     "text": [
      "Enter artist name: Mike\n"
     ]
    },
    {
     "name": "stdout",
     "output_type": "stream",
     "text": [
      "Mike is an artist\n",
      "------This ends the first loop------\n"
     ]
    },
    {
     "name": "stdin",
     "output_type": "stream",
     "text": [
      "Enter artist name: mmm\n"
     ]
    },
    {
     "name": "stdout",
     "output_type": "stream",
     "text": [
      "mmm is not an artist\n",
      "------This ends the first loop------\n"
     ]
    },
    {
     "name": "stdin",
     "output_type": "stream",
     "text": [
      "Enter artist name: mmm\n"
     ]
    },
    {
     "name": "stdout",
     "output_type": "stream",
     "text": [
      "mmm is not an artist\n",
      "------This ends the first loop------\n"
     ]
    },
    {
     "name": "stdin",
     "output_type": "stream",
     "text": [
      "Enter artist name: nn\n"
     ]
    },
    {
     "name": "stdout",
     "output_type": "stream",
     "text": [
      "nn is not an artist\n",
      "------This ends the first loop------\n"
     ]
    }
   ],
   "source": [
    "Artists = ['Mike','Charlie','Gracie']\n",
    "\n",
    "for m in range(4):\n",
    "    c = input('Enter artist name:')\n",
    "\n",
    "    if c in Artists:\n",
    "        print(f\"{c} is an artist\")\n",
    "    else:\n",
    "        print(f\"{c} is not an artist\")\n",
    "    print(\"------This ends the first loop------\")"
   ]
  },
  {
   "cell_type": "code",
   "execution_count": 8,
   "id": "32288e74-29e6-46e4-97b5-46b9a21c90bd",
   "metadata": {},
   "outputs": [
    {
     "name": "stdout",
     "output_type": "stream",
     "text": [
      "0\n",
      "1\n",
      "2\n",
      "3\n",
      "4\n",
      "5\n",
      "6\n",
      "7\n",
      "8\n",
      "9\n",
      "10\n",
      "11\n",
      "12\n",
      "13\n",
      "14\n",
      "15\n",
      "16\n",
      "17\n",
      "18\n",
      "19\n"
     ]
    }
   ],
   "source": [
    "fish = []\n",
    "for c in range(20):\n",
    "    print(c)"
   ]
  },
  {
   "cell_type": "code",
   "execution_count": null,
   "id": "1375c563-c004-437a-8c07-7a96fe401cc6",
   "metadata": {},
   "outputs": [],
   "source": [
    "#You're a software developer, you're contracted to create a system that stored different products. Consider allowing people\n",
    "#to check all the availabe products. Tell them which one is available.\n",
    "#This check can happen at any amount of time you prefer"
   ]
  },
  {
   "cell_type": "code",
   "execution_count": 2,
   "id": "5f59a83e-cfc7-400c-bfc6-85d2acacabb6",
   "metadata": {},
   "outputs": [
    {
     "name": "stdin",
     "output_type": "stream",
     "text": [
      "What product do you want?: cake\n"
     ]
    },
    {
     "name": "stdout",
     "output_type": "stream",
     "text": [
      " Oops! cake is out of stock, today.\n"
     ]
    },
    {
     "name": "stdin",
     "output_type": "stream",
     "text": [
      "What product do you want?: fruits\n"
     ]
    },
    {
     "name": "stdout",
     "output_type": "stream",
     "text": [
      "fruits is totally available, today!\n"
     ]
    },
    {
     "name": "stdin",
     "output_type": "stream",
     "text": [
      "What product do you want?: fried yam\n"
     ]
    },
    {
     "name": "stdout",
     "output_type": "stream",
     "text": [
      " Oops! fried yam is out of stock, today.\n"
     ]
    },
    {
     "name": "stdin",
     "output_type": "stream",
     "text": [
      "What product do you want?: smoothie\n"
     ]
    },
    {
     "name": "stdout",
     "output_type": "stream",
     "text": [
      " Oops! smoothie is out of stock, today.\n"
     ]
    },
    {
     "name": "stdin",
     "output_type": "stream",
     "text": [
      "What product do you want?: Juice\n"
     ]
    },
    {
     "name": "stdout",
     "output_type": "stream",
     "text": [
      " Oops! Juice is out of stock, today.\n"
     ]
    },
    {
     "name": "stdin",
     "output_type": "stream",
     "text": [
      "What product do you want?: beverages\n"
     ]
    },
    {
     "name": "stdout",
     "output_type": "stream",
     "text": [
      "beverages is totally available, today!\n"
     ]
    }
   ],
   "source": [
    "Products = ['beverages', 'rice', 'oil', 'juice', 'water', 'fruits']\n",
    "for a in range(6):\n",
    "    p = input('What product do you want?:')\n",
    "\n",
    "    if p in Products:\n",
    "        print(f\"{p} is totally available, today!\")\n",
    "            \n",
    "    else: \n",
    "        print(f\" Oops! {p} is out of stock, today.\")"
   ]
  },
  {
   "cell_type": "code",
   "execution_count": 32,
   "id": "4ac60316-f7bc-4ae3-8b7a-2641cf5e7c24",
   "metadata": {},
   "outputs": [
    {
     "name": "stdout",
     "output_type": "stream",
     "text": [
      "Welcome to our System\n",
      "(1) View all items\n",
      "(2) Search all items\n",
      "(3) Add new items\n",
      "(4) Remove items\n",
      "-----------------\n"
     ]
    },
    {
     "name": "stdin",
     "output_type": "stream",
     "text": [
      "What do you want? 4\n"
     ]
    },
    {
     "name": "stdout",
     "output_type": "stream",
     "text": [
      "Remove items\n"
     ]
    },
    {
     "name": "stdin",
     "output_type": "stream",
     "text": [
      "Which item do you want to remove?: rice\n"
     ]
    },
    {
     "name": "stdout",
     "output_type": "stream",
     "text": [
      "rice has been removed successfully!\n",
      "-beans\n",
      "-yam\n",
      "-noodles\n"
     ]
    }
   ],
   "source": [
    "Items = ['rice', 'beans', 'yam', 'noodles']\n",
    "\n",
    "print('Welcome to our System')\n",
    "print('(1) View all items')\n",
    "print('(2) Search all items')\n",
    "print('(3) Add new items')\n",
    "print('(4) Remove items')\n",
    "print('-----------------')\n",
    "q1 = input('What do you want?')\n",
    "\n",
    "#This shows all the products\n",
    "if q1 == '1':\n",
    "    print('The items available are')\n",
    "    for anything in Items:\n",
    "        print(f\"-{anything}\")\n",
    "\n",
    "#This will search for the products\n",
    "elif q1 == '2':\n",
    "    print('Search all items')\n",
    "    b = input('Enter the item you want:')\n",
    "    if b in Items:\n",
    "        print(f\"{b} is available\")\n",
    "    else:\n",
    "        print(f\"{b} is not available\")\n",
    "\n",
    "elif q1 == '3':\n",
    "    c = input('new items')\n",
    "    Items.append(c)\n",
    "    print(f'{c} is added to items')\n",
    "\n",
    "elif q1 == '4':\n",
    "    print('Remove items')\n",
    "    c = input('Which item do you want to remove?:')\n",
    "    Items.remove(c)\n",
    "    print(f\"{c} has been removed successfully!\")\n",
    "    for x in Items:\n",
    "          print(f\"-{x}\")\n",
    "\n",
    "else:\n",
    "    print('Invalid')"
   ]
  },
  {
   "cell_type": "code",
   "execution_count": null,
   "id": "bac92c0a-f0ea-4126-8176-55908958c6e2",
   "metadata": {},
   "outputs": [],
   "source": []
  }
 ],
 "metadata": {
  "kernelspec": {
   "display_name": "Python 3 (ipykernel)",
   "language": "python",
   "name": "python3"
  },
  "language_info": {
   "codemirror_mode": {
    "name": "ipython",
    "version": 3
   },
   "file_extension": ".py",
   "mimetype": "text/x-python",
   "name": "python",
   "nbconvert_exporter": "python",
   "pygments_lexer": "ipython3",
   "version": "3.12.7"
  }
 },
 "nbformat": 4,
 "nbformat_minor": 5
}
