{
 "cells": [
  {
   "cell_type": "code",
   "execution_count": 17,
   "id": "2e185339-9ff4-4307-ab81-f8ff6c8a2714",
   "metadata": {},
   "outputs": [],
   "source": [
    "import pandas as pd"
   ]
  },
  {
   "cell_type": "code",
   "execution_count": 18,
   "id": "47f64c7b-b06e-43a0-9baa-fd4f4a6f3d54",
   "metadata": {},
   "outputs": [],
   "source": [
    "data = {\n",
    "    \"ID\": [1, 2, None, 4, 5, 6, None, 8, 9, 10,\n",
    "           11, None, 13, 14, 15, None, 17, 18, 19, 20,\n",
    "           None, 22, 23, 24, None, 26, 27, 28, 29, None,\n",
    "           31, 32, None, 34, 35, 36, None, 38, 39, 40,\n",
    "           41, None, 43, 44, 45, None, 47, 48, 49, 50],\n",
    "\n",
    "    \"Name\": [\" John \", \"mary\", \"ANNA!!\", \"peter\", None,\n",
    "             \" Sam  \", \"miCHAEL\", \"linda \", \"##james\", \"sAraH \",\n",
    "             \" Mike\", \"   \", \"JoHN\", \"MARY!!\", \" anna \",\n",
    "             \"PeTer\", \"unknown\", \"Sam\", \"LiNdA\", \"James\",\n",
    "             \"Sarah\", \"MIKE\", None, \"m ary\", \"john  \",\n",
    "             \"Mary\", \"ann@\", \"pete r\", \"Linda\", \"###James\",\n",
    "             \"SARAH\", \"Mi ke\", \"J0hn\", \"Mar y\", \"Ann a\",\n",
    "             \"Peterrr\", \"Sammm\", \"Lin da\", \"James!\", \"Saarah\",\n",
    "             \" mike \", \"Maryy\", \"Annaa\", \"Peter__\", \"Li nda \",\n",
    "             \"JAMES\", \"Sarahh\", None, \"   Linda  \", \"??Mike\"],\n",
    "\n",
    "    \"Age\": [25, \"32\", \"Twenty\", -5, None,\n",
    "            30, \"?\", 45, 60, 18,\n",
    "            200, 30, 25, \"?\", \"Thirty\",\n",
    "            None, -10, 45, 61, \"??\",\n",
    "            \"20 years\", 29, 33, 18, 22,\n",
    "            \"forty\", 19, None, -3, \"N/A\",\n",
    "            40, \"??\", 60, 55, -100,\n",
    "            \"Unknown\", 45, 36, 29, \"??\",\n",
    "            21, 30, None, \"?\", \"thirty-five\",\n",
    "            90, \"200\", \"??\", -1, 27],\n",
    "\n",
    "    \"Gender\": [\"M\", \"F\", \"Male\", \"Female\", \"unknown\",\n",
    "               \" \", None, \"M\", \"F\", \"male\",\n",
    "               \"female\", \"Unknown\", \"m\", \"f\", \"MALE\",\n",
    "               \"FEMALE\", \"mAle\", \"FemAle\", \"f\", \"uNkNowN\",\n",
    "               \"M \", \" F\", \"Unknown\", \"\", \" \",\n",
    "               \"Female\", \"Male\", \"f\", \"m\", None,\n",
    "               \"Unknown\", \"male\", \"female\", \"M\", \"F\",\n",
    "               \"unknown\", \"M\", \"F\", \" \", \"Male\",\n",
    "               \"Female\", \"unknown\", \"MALE\", \"FEMALE\", \"m\",\n",
    "               \"f\", \"M\", \"F\", \"unknown\", \" \"],\n",
    "\n",
    "    \"Date_Joined\": [\"2020-01-05\", \"01/05/2020\", \"2020/13/05\", None, \"5 Jan 2020\",\n",
    "                    \"2021-07-32\", \"2022-03-15\", \"2020-01-05\", \"01-05-2020\", \"2020-05-01\",\n",
    "                    \"2020-31-01\", \"2021/02/29\", \"2019-12-12\", \"12/31/2019\", None,\n",
    "                    \"2020-14-05\", \"2022-11-30\", \"15/03/2021\", \"2021-04-31\", \"2018/07/25\",\n",
    "                    \"July 5, 2020\", \"2021-02-28\", None, \"2019-25-12\", \"2020/00/10\",\n",
    "                    \"2017-06-15\", \"2020-09-31\", \"03/15/2022\", \"2022-13-01\", \"2020-01-32\",\n",
    "                    \"2021-05-10\", None, \"2020-02-29\", \"2020-04-31\", \"2020/05/20\",\n",
    "                    \"13/13/2020\", \"2019-07-07\", \"07/25/2020\", \"2020-00-00\", \"2021-10-10\",\n",
    "                    \"2018-12-31\", \"2017-01-01\", \"2016-02-30\", \"2015-11-11\", None,\n",
    "                    \"2022-05-20\", \"20/05/2022\", \"2021-06-31\", \"2020-07-15\", \"01/32/2021\"],\n",
    "\n",
    "    \"Salary\": [2000, \"3,000\", \"$4000\", None, \"Five Thousand\",\n",
    "               1000000, 3500, \"4O00\", \"2,500\", \"£3000\",\n",
    "               \"USD 4500\", \"N5000\", \"€6000\", \"seven thousand\", \"8000\",\n",
    "               \"9000.50\", \"10000\", \"??\", \" \", \"0\",\n",
    "               \"3500\", \" 4000\", \"$$$5000\", \"ten thousand\", None,\n",
    "               \"4500\", \"3,200\", \"5000.00\", \"N/A\", \"-2000\",\n",
    "               \"6000\", \"7000\", \"??\", \"10000000\", \"One Million\",\n",
    "               \"2500\", \"£4000\", \"3000\", \"400O\", \"9999999\",\n",
    "               \"200\", \"30,000\", \"?\", \"NaN\", None,\n",
    "               \"7500\", \"8,000\", \"four thousand\", \"500\", \"100\"]\n",
    "}"
   ]
  },
  {
   "cell_type": "code",
   "execution_count": 19,
   "id": "0de70dad-ab21-4bc2-b009-f10cedf347b8",
   "metadata": {},
   "outputs": [],
   "source": [
    "#convert this dictionary to DataFrame (df)\n",
    "df = pd.DataFrame(data)\n"
   ]
  },
  {
   "cell_type": "code",
   "execution_count": 20,
   "id": "301008f0-fecc-4182-80be-7dec6128ce61",
   "metadata": {},
   "outputs": [
    {
     "data": {
      "text/plain": [
       "0         2000\n",
       "1        3,000\n",
       "2        $4000\n",
       "3         None\n",
       "4         5000\n",
       "5      1000000\n",
       "6         3500\n",
       "7         4000\n",
       "8        2,500\n",
       "9        £3000\n",
       "10    USD 4500\n",
       "11       N5000\n",
       "12       €6000\n",
       "13        7000\n",
       "14        8000\n",
       "15     9000.50\n",
       "16       10000\n",
       "17          ??\n",
       "18            \n",
       "19           0\n",
       "20        3500\n",
       "21        4000\n",
       "22     $$$5000\n",
       "23       10000\n",
       "24        None\n",
       "25        4500\n",
       "26       3,200\n",
       "27     5000.00\n",
       "28         N/A\n",
       "29        2000\n",
       "30        6000\n",
       "31        7000\n",
       "32          ??\n",
       "33    10000000\n",
       "34     1000000\n",
       "35        2500\n",
       "36       £4000\n",
       "37        3000\n",
       "38        4000\n",
       "39     9999999\n",
       "40         200\n",
       "41      30,000\n",
       "42           ?\n",
       "43         NaN\n",
       "44        None\n",
       "45        7500\n",
       "46       8,000\n",
       "47        4000\n",
       "48         500\n",
       "49         100\n",
       "Name: Salary, dtype: object"
      ]
     },
     "execution_count": 20,
     "metadata": {},
     "output_type": "execute_result"
    }
   ],
   "source": [
    "#Using Dictionary format\n",
    "Word2fig = {\n",
    "     'Five Thousand': '5000',\n",
    "     'seven thousand': '7000',\n",
    "     'ten thousand': '10000',\n",
    "     'One Million': '1000000',\n",
    "     'four thousand':'4000',\n",
    "     '400O':'4000',\n",
    "     '4O00': '4000',\n",
    "     '-2000':'2000'\n",
    " }\n",
    "df['Salary'] = df['Salary'].replace(Word2fig)\n",
    "df['Salary']"
   ]
  },
  {
   "cell_type": "code",
   "execution_count": 21,
   "id": "fb602a74-8ce2-4783-b8cc-539935395054",
   "metadata": {},
   "outputs": [
    {
     "data": {
      "text/plain": [
       "0         2000\n",
       "1         3000\n",
       "2         4000\n",
       "3             \n",
       "4         5000\n",
       "5      1000000\n",
       "6         3500\n",
       "7         4000\n",
       "8         2500\n",
       "9         3000\n",
       "10        4500\n",
       "11        5000\n",
       "12        6000\n",
       "13        7000\n",
       "14        8000\n",
       "15     9000.50\n",
       "16       10000\n",
       "17            \n",
       "18            \n",
       "19           0\n",
       "20        3500\n",
       "21        4000\n",
       "22        5000\n",
       "23       10000\n",
       "24            \n",
       "25        4500\n",
       "26        3200\n",
       "27     5000.00\n",
       "28            \n",
       "29        2000\n",
       "30        6000\n",
       "31        7000\n",
       "32            \n",
       "33    10000000\n",
       "34     1000000\n",
       "35        2500\n",
       "36        4000\n",
       "37        3000\n",
       "38        4000\n",
       "39     9999999\n",
       "40         200\n",
       "41       30000\n",
       "42            \n",
       "43            \n",
       "44            \n",
       "45        7500\n",
       "46        8000\n",
       "47        4000\n",
       "48         500\n",
       "49         100\n",
       "Name: Salary, dtype: object"
      ]
     },
     "execution_count": 21,
     "metadata": {},
     "output_type": "execute_result"
    }
   ],
   "source": [
    "df['Salary'].astype(str).str.replace('[^0-9-.]', '', regex = True)\n"
   ]
  },
  {
   "cell_type": "code",
   "execution_count": 22,
   "id": "28da436b-dcb9-4cdc-91a9-2b0c60d1b4f7",
   "metadata": {},
   "outputs": [
    {
     "data": {
      "text/plain": [
       "0         2000.0\n",
       "1            NaN\n",
       "2            NaN\n",
       "3            NaN\n",
       "4         5000.0\n",
       "5      1000000.0\n",
       "6         3500.0\n",
       "7         4000.0\n",
       "8            NaN\n",
       "9            NaN\n",
       "10           NaN\n",
       "11           NaN\n",
       "12           NaN\n",
       "13        7000.0\n",
       "14        8000.0\n",
       "15        9000.5\n",
       "16       10000.0\n",
       "17           NaN\n",
       "18           NaN\n",
       "19           0.0\n",
       "20        3500.0\n",
       "21        4000.0\n",
       "22           NaN\n",
       "23       10000.0\n",
       "24           NaN\n",
       "25        4500.0\n",
       "26           NaN\n",
       "27        5000.0\n",
       "28           NaN\n",
       "29        2000.0\n",
       "30        6000.0\n",
       "31        7000.0\n",
       "32           NaN\n",
       "33    10000000.0\n",
       "34     1000000.0\n",
       "35        2500.0\n",
       "36           NaN\n",
       "37        3000.0\n",
       "38        4000.0\n",
       "39     9999999.0\n",
       "40         200.0\n",
       "41           NaN\n",
       "42           NaN\n",
       "43           NaN\n",
       "44           NaN\n",
       "45        7500.0\n",
       "46           NaN\n",
       "47        4000.0\n",
       "48         500.0\n",
       "49         100.0\n",
       "Name: Salary, dtype: float64"
      ]
     },
     "execution_count": 22,
     "metadata": {},
     "output_type": "execute_result"
    }
   ],
   "source": [
    "df['Salary'] = pd.to_numeric(df['Salary'], errors ='coerce')\n",
    "df['Salary']\n"
   ]
  },
  {
   "cell_type": "code",
   "execution_count": 23,
   "id": "54453069-fba4-4e09-a306-436eaec1eb22",
   "metadata": {},
   "outputs": [
    {
     "data": {
      "text/plain": [
       "4500.0"
      ]
     },
     "execution_count": 23,
     "metadata": {},
     "output_type": "execute_result"
    }
   ],
   "source": [
    "Median_Salary = df['Salary'].median()\n",
    "Median_Salary"
   ]
  },
  {
   "cell_type": "code",
   "execution_count": 24,
   "id": "085b151e-d3f0-4f86-9755-0149bf29eef7",
   "metadata": {},
   "outputs": [
    {
     "data": {
      "text/plain": [
       "762493.0862068966"
      ]
     },
     "execution_count": 24,
     "metadata": {},
     "output_type": "execute_result"
    }
   ],
   "source": [
    "Mean_Salary = df['Salary'].mean()\n",
    "Mean_Salary"
   ]
  },
  {
   "cell_type": "code",
   "execution_count": 25,
   "id": "99d40a0e-cd45-45da-86b6-bc1bcac01ed6",
   "metadata": {},
   "outputs": [
    {
     "data": {
      "text/plain": [
       "0    4000.0\n",
       "Name: Salary, dtype: float64"
      ]
     },
     "execution_count": 25,
     "metadata": {},
     "output_type": "execute_result"
    }
   ],
   "source": [
    "Mode_Salary = df['Salary'].mode()\n",
    "Mode_Salary"
   ]
  },
  {
   "cell_type": "code",
   "execution_count": 13,
   "id": "b23cfebe-fdf4-41e1-8b4e-2d7b75b8e645",
   "metadata": {},
   "outputs": [
    {
     "data": {
      "text/plain": [
       "0         2000.0\n",
       "1         4500.0\n",
       "2         4500.0\n",
       "3         4500.0\n",
       "4         5000.0\n",
       "5      1000000.0\n",
       "6         3500.0\n",
       "7         4000.0\n",
       "8         4500.0\n",
       "9         4500.0\n",
       "10        4500.0\n",
       "11        4500.0\n",
       "12        4500.0\n",
       "13        7000.0\n",
       "14        8000.0\n",
       "15        9000.5\n",
       "16       10000.0\n",
       "17        4500.0\n",
       "18        4500.0\n",
       "19           0.0\n",
       "20        3500.0\n",
       "21        4000.0\n",
       "22        4500.0\n",
       "23       10000.0\n",
       "24        4500.0\n",
       "25        4500.0\n",
       "26        4500.0\n",
       "27        5000.0\n",
       "28        4500.0\n",
       "29        2000.0\n",
       "30        6000.0\n",
       "31        7000.0\n",
       "32        4500.0\n",
       "33    10000000.0\n",
       "34     1000000.0\n",
       "35        2500.0\n",
       "36        4500.0\n",
       "37        3000.0\n",
       "38        4000.0\n",
       "39     9999999.0\n",
       "40         200.0\n",
       "41        4500.0\n",
       "42        4500.0\n",
       "43        4500.0\n",
       "44        4500.0\n",
       "45        7500.0\n",
       "46        4500.0\n",
       "47        4000.0\n",
       "48         500.0\n",
       "49         100.0\n",
       "Name: Salary, dtype: float64"
      ]
     },
     "execution_count": 13,
     "metadata": {},
     "output_type": "execute_result"
    }
   ],
   "source": [
    "df['Salary'] = df['Salary'].fillna(Median_Salary)\n",
    "df['Salary']"
   ]
  },
  {
   "cell_type": "code",
   "execution_count": 14,
   "id": "24af3741-4367-4815-a60e-d372e4a469e7",
   "metadata": {},
   "outputs": [
    {
     "data": {
      "text/plain": [
       "4500.0"
      ]
     },
     "execution_count": 14,
     "metadata": {},
     "output_type": "execute_result"
    }
   ],
   "source": [
    "#Use this where there is are more than one modes \n",
    "Mode_Salary = df['Salary'].mode()[0]\n",
    "Mode_Salary"
   ]
  },
  {
   "cell_type": "code",
   "execution_count": 30,
   "id": "8f93670e-3fc7-4aaf-9846-d5f22179da79",
   "metadata": {},
   "outputs": [],
   "source": []
  },
  {
   "cell_type": "code",
   "execution_count": null,
   "id": "4c439a76-1eaa-4304-a4e8-d951c89c9a00",
   "metadata": {},
   "outputs": [],
   "source": []
  }
 ],
 "metadata": {
  "kernelspec": {
   "display_name": "Python 3 (ipykernel)",
   "language": "python",
   "name": "python3"
  },
  "language_info": {
   "codemirror_mode": {
    "name": "ipython",
    "version": 3
   },
   "file_extension": ".py",
   "mimetype": "text/x-python",
   "name": "python",
   "nbconvert_exporter": "python",
   "pygments_lexer": "ipython3",
   "version": "3.12.7"
  }
 },
 "nbformat": 4,
 "nbformat_minor": 5
}
