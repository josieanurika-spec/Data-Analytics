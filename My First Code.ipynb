{
 "cells": [
  {
   "cell_type": "code",
   "execution_count": 1,
   "id": "21dc8d7c-e843-4e27-a57a-b7bc986b6332",
   "metadata": {},
   "outputs": [
    {
     "name": "stdout",
     "output_type": "stream",
     "text": [
      "my name is josephine\n"
     ]
    }
   ],
   "source": [
    "print('my name is josephine')"
   ]
  },
  {
   "cell_type": "code",
   "execution_count": 5,
   "id": "682c4dde-15bf-45a2-8994-fd7d066e7468",
   "metadata": {},
   "outputs": [
    {
     "name": "stdout",
     "output_type": "stream",
     "text": [
      "i can do all things.\n"
     ]
    }
   ],
   "source": [
    "print(\"i can do all things.\")"
   ]
  },
  {
   "cell_type": "code",
   "execution_count": 11,
   "id": "a072421f-77b5-4b4f-a0e2-ef7b10179f35",
   "metadata": {},
   "outputs": [
    {
     "name": "stdout",
     "output_type": "stream",
     "text": [
      "anurika\n",
      "<class 'str'>\n"
     ]
    }
   ],
   "source": [
    "Name= 'Josephine'\n",
    "name='anurika'\n",
    "print(name)\n",
    "age=21\n",
    "weight=50.8\n",
    "\n",
    "print(type(name))\n"
   ]
  },
  {
   "cell_type": "code",
   "execution_count": null,
   "id": "204fe6f0-efca-43a9-919e-56f7b0c385e0",
   "metadata": {},
   "outputs": [],
   "source": [
    "My name is Josephine, i school at FULafia. Today i spent 50, though i had 1000, i bought snacks of 200"
   ]
  },
  {
   "cell_type": "code",
   "execution_count": 27,
   "id": "152ef7d9-0572-4446-9458-0e40ee80e0ea",
   "metadata": {},
   "outputs": [
    {
     "name": "stdout",
     "output_type": "stream",
     "text": [
      "My name is Josephine , i school at FULafia .Today i spent 50 , though i had 1000 i bought snacks of 200\n"
     ]
    }
   ],
   "source": [
    "name = 'Josephine'\n",
    "school = 'FULafia'\n",
    "transport = '50'\n",
    "snacks = '200'\n",
    "capital = '1000'\n",
    "\n",
    "print('My name is', name,', i school at',school,'.Today i spent',transport,', though i had',capital,'i bought snacks of', snacks)"
   ]
  },
  {
   "cell_type": "code",
   "execution_count": 30,
   "id": "14919ff2-7d9a-4b28-a065-d753db95fb6d",
   "metadata": {},
   "outputs": [
    {
     "name": "stdout",
     "output_type": "stream",
     "text": [
      "72.4\n"
     ]
    }
   ],
   "source": [
    "rice = 50\n",
    "beans_price = 70\n",
    "beans_measurement = 2.4\n",
    "\n",
    "print(beans_price+beans_measurement)"
   ]
  },
  {
   "cell_type": "code",
   "execution_count": null,
   "id": "d49260c5-6e8b-49fe-924e-040d5c109a70",
   "metadata": {},
   "outputs": [],
   "source": []
  }
 ],
 "metadata": {
  "kernelspec": {
   "display_name": "Python 3 (ipykernel)",
   "language": "python",
   "name": "python3"
  },
  "language_info": {
   "codemirror_mode": {
    "name": "ipython",
    "version": 3
   },
   "file_extension": ".py",
   "mimetype": "text/x-python",
   "name": "python",
   "nbconvert_exporter": "python",
   "pygments_lexer": "ipython3",
   "version": "3.12.7"
  }
 },
 "nbformat": 4,
 "nbformat_minor": 5
}
